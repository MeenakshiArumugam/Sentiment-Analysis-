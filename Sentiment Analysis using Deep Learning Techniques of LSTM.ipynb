{
 "cells": [
  {
   "cell_type": "markdown",
   "metadata": {},
   "source": [
    "## Context:\n",
    "\n"
   ]
  },
  {
   "cell_type": "markdown",
   "metadata": {},
   "source": [
    "To Identify Sentiment Analysis of give input is number(may be Encrypted or already Vectorized ),so cannot we implement Lemmitization or Vectorization ,Now i'm going to build a model with Deep Learning Technique of LSTM"
   ]
  },
  {
   "cell_type": "markdown",
   "metadata": {
    "colab_type": "text",
    "id": "Hip0_ltrfrWr"
   },
   "source": [
    "## Importing Library"
   ]
  },
  {
   "cell_type": "code",
   "execution_count": 39,
   "metadata": {
    "colab": {},
    "colab_type": "code",
    "id": "F77njaqkfrWs"
   },
   "outputs": [],
   "source": [
    "import pandas as pd\n",
    "import numpy as np\n",
    "from tensorflow.keras.layers import Embedding\n",
    "from tensorflow.keras.preprocessing.sequence import pad_sequences\n",
    "from tensorflow.keras.models import Sequential\n",
    "from tensorflow.keras.layers import Dense\n",
    "from tensorflow.keras.layers import LSTM\n",
    "from tensorflow.keras.preprocessing.text import one_hot\n",
    "\n",
    "import warnings \n",
    "warnings.filterwarnings(\"ignore\")\n",
    "\n"
   ]
  },
  {
   "cell_type": "markdown",
   "metadata": {
    "colab_type": "text",
    "id": "ZbrYsZi0frWw"
   },
   "source": [
    "## Reading Data"
   ]
  },
  {
   "cell_type": "code",
   "execution_count": 41,
   "metadata": {
    "colab": {},
    "colab_type": "code",
    "id": "aPxyWY-WfrWw"
   },
   "outputs": [],
   "source": [
    "df_train = pd.read_csv(\"/content/sample_data/training.csv\")\n",
    "df_test = pd.read_csv(\"/content/sample_data/test_.csv\")"
   ]
  },
  {
   "cell_type": "markdown",
   "metadata": {},
   "source": [
    "## Deep Learning Technique of LSTM:\n"
   ]
  },
  {
   "cell_type": "markdown",
   "metadata": {},
   "source": [
    "### Tokenization"
   ]
  },
  {
   "cell_type": "code",
   "execution_count": 42,
   "metadata": {
    "colab": {},
    "colab_type": "code",
    "id": "VUyLc1QcfrWz"
   },
   "outputs": [],
   "source": [
    "corpus_train = []\n",
    "for sent in df_train[\"text\"]:\n",
    "    review = sent.split()\n",
    "    review = \" \".join(review)\n",
    "    corpus_train.append(review)"
   ]
  },
  {
   "cell_type": "code",
   "execution_count": 43,
   "metadata": {
    "colab": {},
    "colab_type": "code",
    "id": "A6NUKIiGfrW2"
   },
   "outputs": [],
   "source": [
    "corpus_test = []\n",
    "for sent in df_test[\"text\"]:\n",
    "    review = sent.split()\n",
    "    review = \" \".join(review)\n",
    "    corpus_test.append(review)"
   ]
  },
  {
   "cell_type": "markdown",
   "metadata": {
    "colab_type": "text",
    "id": "tR7cGTLtfrW5"
   },
   "source": [
    "### One Hot Representation"
   ]
  },
  {
   "cell_type": "code",
   "execution_count": 44,
   "metadata": {
    "colab": {},
    "colab_type": "code",
    "id": "-GPeJLWHfrW6"
   },
   "outputs": [],
   "source": [
    "# To set the Vocab size\n",
    "sent_tokenize = []\n",
    "\n",
    "for sent in df_train[\"text\"]:\n",
    "    sentence = sent.split()\n",
    "    sent_tokenize.append(sentence)\n",
    "lis1 = []\n",
    "for sent in sent_tokenize:\n",
    "    for word in sent:\n",
    "        lis1.append(word)"
   ]
  },
  {
   "cell_type": "markdown",
   "metadata": {
    "colab_type": "text",
    "id": "MAcvYS1LfrW8"
   },
   "source": [
    "#### Unique Word Identiffication function we can laso use set function"
   ]
  },
  {
   "cell_type": "code",
   "execution_count": 45,
   "metadata": {
    "colab": {},
    "colab_type": "code",
    "id": "ypWv-KtTfrW9"
   },
   "outputs": [],
   "source": [
    "### This one can find using set() function but i use scratch code \n",
    "### This code is not necessary\n",
    "def unique_vector(com_vector):\n",
    "    \n",
    "    unique = []\n",
    "    \n",
    "\n",
    "    for vec in com_vector:\n",
    "        \n",
    "        l = len(unique)\n",
    "        \n",
    "        if vec ==\"\":\n",
    "            break\n",
    "        elif l==0:\n",
    "            unique.append(vec)\n",
    "        else:\n",
    "            \n",
    "            if vec in unique:\n",
    "                pass\n",
    "            else:\n",
    "                unique.append(vec)\n",
    "    return unique\n"
   ]
  },
  {
   "cell_type": "code",
   "execution_count": 46,
   "metadata": {
    "colab": {
     "base_uri": "https://localhost:8080/",
     "height": 34
    },
    "colab_type": "code",
    "id": "ilkOAw68frXA",
    "outputId": "edc9e8f4-f460-426c-ff6a-849a387d7785"
   },
   "outputs": [
    {
     "data": {
      "text/plain": [
       "8493"
      ]
     },
     "execution_count": 46,
     "metadata": {
      "tags": []
     },
     "output_type": "execute_result"
    }
   ],
   "source": [
    "uni = unique_vector(lis1)\n",
    "len(uni)"
   ]
  },
  {
   "cell_type": "code",
   "execution_count": 47,
   "metadata": {
    "colab": {},
    "colab_type": "code",
    "id": "TNmXhXkGfrXE"
   },
   "outputs": [],
   "source": [
    "#voc size\n",
    "#from the analysis the unique feature is 8493\n",
    "#so i choosen 10000 as a vocab size\n",
    "vocb_size = 10000 \n",
    "\n",
    "one_hot_rep = [one_hot(words,vocb_size) for words in corpus_train]\n",
    "one_hot_rep_test = [one_hot(words,vocb_size) for words in corpus_test]\n",
    "\n"
   ]
  },
  {
   "cell_type": "markdown",
   "metadata": {
    "colab_type": "text",
    "id": "rJxOBAarfrXG"
   },
   "source": [
    "### Word Embedding Representation"
   ]
  },
  {
   "cell_type": "code",
   "execution_count": 48,
   "metadata": {
    "colab": {},
    "colab_type": "code",
    "id": "hTY3bJJzfrXG"
   },
   "outputs": [],
   "source": [
    "from tensorflow.keras.layers import Embedding\n",
    "from tensorflow.keras.preprocessing.sequence import pad_sequences\n",
    "# pad_sequences is very very important bcz whenever passing anything to the embedding layer everything should be in same number of words\n",
    "from tensorflow.keras.models import Sequential"
   ]
  },
  {
   "cell_type": "markdown",
   "metadata": {
    "colab_type": "text",
    "id": "w9byMROVfrXJ"
   },
   "source": [
    "### Padding"
   ]
  },
  {
   "cell_type": "code",
   "execution_count": 49,
   "metadata": {
    "colab": {
     "base_uri": "https://localhost:8080/",
     "height": 34
    },
    "colab_type": "code",
    "id": "l0ELJo7UfrXJ",
    "outputId": "3d448cd5-d7ab-41b9-af6f-268ad1763c50"
   },
   "outputs": [
    {
     "data": {
      "text/plain": [
       "6290"
      ]
     },
     "execution_count": 49,
     "metadata": {
      "tags": []
     },
     "output_type": "execute_result"
    }
   ],
   "source": [
    "sent_tokenize = []\n",
    "sent_length = []\n",
    "\n",
    "for sent in df_train[\"text\"]:\n",
    "    sentence = sent.split()\n",
    "    sent_len = len(sentence)\n",
    "    sent_tokenize.append(sentence)\n",
    "    sent_length.append(sent_len)\n",
    "max(sent_length)        "
   ]
  },
  {
   "cell_type": "code",
   "execution_count": 50,
   "metadata": {
    "colab": {
     "base_uri": "https://localhost:8080/",
     "height": 34
    },
    "colab_type": "code",
    "id": "5b7etF7VfrXM",
    "outputId": "43307f88-d31f-468d-e787-69ac28fad5be"
   },
   "outputs": [
    {
     "data": {
      "text/plain": [
       "3122"
      ]
     },
     "execution_count": 50,
     "metadata": {
      "tags": []
     },
     "output_type": "execute_result"
    }
   ],
   "source": [
    "sent_tokenize = []\n",
    "sent_length = []\n",
    "\n",
    "for sent in df_test[\"text\"]:\n",
    "    sentence = sent.split()\n",
    "    sent_len = len(sentence)\n",
    "    sent_tokenize.append(sentence)\n",
    "    sent_length.append(sent_len)\n",
    "max(sent_length)        "
   ]
  },
  {
   "cell_type": "markdown",
   "metadata": {},
   "source": [
    "#### Setting Parameter for Padding "
   ]
  },
  {
   "cell_type": "code",
   "execution_count": 51,
   "metadata": {
    "colab": {
     "base_uri": "https://localhost:8080/",
     "height": 136
    },
    "colab_type": "code",
    "id": "6b1LEokqfrXP",
    "outputId": "0a150e99-38ad-482b-baac-099f1c038aa7"
   },
   "outputs": [
    {
     "name": "stdout",
     "output_type": "stream",
     "text": [
      "[[   0    0    0 ... 5226 4629 1043]\n",
      " [   0    0    0 ... 4381  814   57]\n",
      " [   0    0    0 ... 1072 8648 1043]\n",
      " ...\n",
      " [   0    0    0 ... 1043 7026 2644]\n",
      " [   0    0    0 ... 9329 3922 7631]\n",
      " [   0    0    0 ... 3789 3786 9100]]\n"
     ]
    }
   ],
   "source": [
    "pad_len_size = 7000\n",
    "embedded_docs = pad_sequences(one_hot_rep,padding = \"pre\",maxlen =pad_len_size )\n",
    "embedded_docs_test = pad_sequences(one_hot_rep_test,padding = \"pre\",maxlen =pad_len_size )\n",
    "\n",
    "print(embedded_docs)\n"
   ]
  },
  {
   "cell_type": "markdown",
   "metadata": {
    "colab_type": "text",
    "id": "Qhe-6AJWfrXS"
   },
   "source": [
    "### Embedding Layer"
   ]
  },
  {
   "cell_type": "code",
   "execution_count": 52,
   "metadata": {
    "colab": {
     "base_uri": "https://localhost:8080/",
     "height": 255
    },
    "colab_type": "code",
    "id": "QpARkfLyfrXS",
    "outputId": "3b681ea7-bb0e-4cb1-930e-921ffdcedfaf"
   },
   "outputs": [
    {
     "name": "stdout",
     "output_type": "stream",
     "text": [
      "Model: \"sequential_2\"\n",
      "_________________________________________________________________\n",
      "Layer (type)                 Output Shape              Param #   \n",
      "=================================================================\n",
      "embedding_2 (Embedding)      (None, 7000, 40)          400000    \n",
      "_________________________________________________________________\n",
      "lstm_2 (LSTM)                (None, 100)               56400     \n",
      "_________________________________________________________________\n",
      "dense_2 (Dense)              (None, 1)                 101       \n",
      "=================================================================\n",
      "Total params: 456,501\n",
      "Trainable params: 456,501\n",
      "Non-trainable params: 0\n",
      "_________________________________________________________________\n"
     ]
    }
   ],
   "source": [
    "embedding_vector_feature = 40\n",
    "#Emmbedded Layer\n",
    "model = Sequential()\n",
    "model.add(Embedding(vocb_size,embedding_vector_feature,input_length =pad_len_size ))\n",
    "model.add(LSTM(100))\n",
    "model.add(Dense(1,activation = \"sigmoid\"))\n",
    "model.compile(loss = 'binary_crossentropy',optimizer = \"adam\",metrics = [\"accuracy\"])\n",
    "model.summary()"
   ]
  },
  {
   "cell_type": "code",
   "execution_count": 53,
   "metadata": {
    "colab": {},
    "colab_type": "code",
    "id": "OXXcebEwfrXU"
   },
   "outputs": [],
   "source": [
    "X_train = np.array(embedded_docs)\n",
    "y_train = np.array(df_train[\"category\"])"
   ]
  },
  {
   "cell_type": "code",
   "execution_count": 54,
   "metadata": {
    "colab": {
     "base_uri": "https://localhost:8080/",
     "height": 51
    },
    "colab_type": "code",
    "id": "bh4EGeEGfrXX",
    "outputId": "3dead7e7-2a1a-4c9e-8568-ac4eed3c763b"
   },
   "outputs": [
    {
     "name": "stdout",
     "output_type": "stream",
     "text": [
      "(3464, 7000)\n",
      "(3464,)\n"
     ]
    }
   ],
   "source": [
    "print(X_train.shape)\n",
    "print(y_train.shape)"
   ]
  },
  {
   "cell_type": "code",
   "execution_count": 55,
   "metadata": {
    "colab": {
     "base_uri": "https://localhost:8080/",
     "height": 34
    },
    "colab_type": "code",
    "id": "YSYoOC4HfrXa",
    "outputId": "7769a087-17ac-45a4-c575-28baf8924604"
   },
   "outputs": [
    {
     "name": "stdout",
     "output_type": "stream",
     "text": [
      "(1360, 7000)\n"
     ]
    }
   ],
   "source": [
    "X_test = np.array(embedded_docs_test)\n",
    "print(X_test.shape)"
   ]
  },
  {
   "cell_type": "markdown",
   "metadata": {
    "colab_type": "text",
    "id": "1sAw5GIlfrXc"
   },
   "source": [
    "## ReSampling"
   ]
  },
  {
   "cell_type": "code",
   "execution_count": 56,
   "metadata": {
    "colab": {
     "base_uri": "https://localhost:8080/",
     "height": 34
    },
    "colab_type": "code",
    "id": "gnDPvm5cfrXd",
    "outputId": "799b02e3-3783-4e2c-e461-c969271c48fb"
   },
   "outputs": [
    {
     "name": "stdout",
     "output_type": "stream",
     "text": [
      "Counter After : Counter({0: 3348, 1: 3348}) \n"
     ]
    }
   ],
   "source": [
    "from imblearn.combine import SMOTETomek\n",
    "from collections import Counter\n",
    "os = SMOTETomek()\n",
    "X_train,y_train = os.fit_sample(X_train,y_train)\n",
    "\n",
    "print(\"Counter After : {} \".format(Counter(y_train)))\n"
   ]
  },
  {
   "cell_type": "markdown",
   "metadata": {},
   "source": [
    "## Prediction"
   ]
  },
  {
   "cell_type": "code",
   "execution_count": 38,
   "metadata": {
    "colab": {
     "base_uri": "https://localhost:8080/",
     "height": 374
    },
    "colab_type": "code",
    "id": "MlyQ5mw8frXf",
    "outputId": "6c84e079-b6b0-4fd1-8e54-ed3872aa051b"
   },
   "outputs": [
    {
     "name": "stdout",
     "output_type": "stream",
     "text": [
      "Epoch 1/10\n",
      "105/105 [==============================] - 1079s 10s/step - loss: 0.2545 - accuracy: 0.9011\n",
      "Epoch 2/10\n",
      "105/105 [==============================] - 1067s 10s/step - loss: 0.0603 - accuracy: 0.9813\n",
      "Epoch 3/10\n",
      "105/105 [==============================] - 1072s 10s/step - loss: 0.0210 - accuracy: 0.9976\n",
      "Epoch 4/10\n",
      "105/105 [==============================] - 1074s 10s/step - loss: 0.0087 - accuracy: 0.9991\n",
      "Epoch 5/10\n",
      "105/105 [==============================] - 1080s 10s/step - loss: 0.0045 - accuracy: 0.9996\n",
      "Epoch 6/10\n",
      "105/105 [==============================] - 1055s 10s/step - loss: 0.0026 - accuracy: 0.9997\n",
      "Epoch 7/10\n",
      "105/105 [==============================] - 1057s 10s/step - loss: 0.0017 - accuracy: 0.9999\n",
      "Epoch 8/10\n",
      "105/105 [==============================] - 1062s 10s/step - loss: 0.0011 - accuracy: 0.9999\n",
      "Epoch 9/10\n",
      "105/105 [==============================] - 1054s 10s/step - loss: 5.5744e-04 - accuracy: 1.0000\n",
      "Epoch 10/10\n",
      "105/105 [==============================] - 1046s 10s/step - loss: 3.9282e-04 - accuracy: 1.0000\n"
     ]
    },
    {
     "data": {
      "text/plain": [
       "<tensorflow.python.keras.callbacks.History at 0x7ff1e6c27780>"
      ]
     },
     "execution_count": 38,
     "metadata": {
      "tags": []
     },
     "output_type": "execute_result"
    }
   ],
   "source": [
    "model.fit(X_train,y_train,epochs = 10,batch_size = 64)"
   ]
  },
  {
   "cell_type": "markdown",
   "metadata": {
    "colab": {},
    "colab_type": "code",
    "id": "5SmXz1wFfrXj"
   },
   "source": [
    "### Performance Metrics and Accuracy Score"
   ]
  },
  {
   "cell_type": "code",
   "execution_count": 58,
   "metadata": {
    "colab": {},
    "colab_type": "code",
    "id": "Rsby7XFBxA2G"
   },
   "outputs": [],
   "source": [
    "from sklearn.metrics import confusion_matrix,classification_report,accuracy_score"
   ]
  },
  {
   "cell_type": "code",
   "execution_count": 59,
   "metadata": {
    "colab": {
     "base_uri": "https://localhost:8080/",
     "height": 207
    },
    "colab_type": "code",
    "id": "beuEAASsxpTx",
    "outputId": "9fe27b04-5665-4292-cccd-7ea954119804"
   },
   "outputs": [
    {
     "name": "stdout",
     "output_type": "stream",
     "text": [
      "WARNING:tensorflow:From <ipython-input-59-ec12e0e6ddb4>:1: Sequential.predict_classes (from tensorflow.python.keras.engine.sequential) is deprecated and will be removed after 2021-01-01.\n",
      "Instructions for updating:\n",
      "Please use instead:* `np.argmax(model.predict(x), axis=-1)`,   if your model does multi-class classification   (e.g. if it uses a `softmax` last-layer activation).* `(model.predict(x) > 0.5).astype(\"int32\")`,   if your model does binary classification   (e.g. if it uses a `sigmoid` last-layer activation).\n"
     ]
    },
    {
     "data": {
      "text/plain": [
       "array([[0],\n",
       "       [0],\n",
       "       [0],\n",
       "       ...,\n",
       "       [0],\n",
       "       [0],\n",
       "       [0]], dtype=int32)"
      ]
     },
     "execution_count": 59,
     "metadata": {
      "tags": []
     },
     "output_type": "execute_result"
    }
   ],
   "source": [
    "pred_test = model.predict_classes(X_test)\n",
    "pred_test"
   ]
  },
  {
   "cell_type": "code",
   "execution_count": 60,
   "metadata": {
    "colab": {},
    "colab_type": "code",
    "id": "BVIqy934OeyZ"
   },
   "outputs": [],
   "source": [
    "df_test = pd.read_csv(\"/content/sample_data/test_.csv\")"
   ]
  },
  {
   "cell_type": "code",
   "execution_count": 61,
   "metadata": {
    "colab": {
     "base_uri": "https://localhost:8080/",
     "height": 419
    },
    "colab_type": "code",
    "id": "JstxfrmJOmgh",
    "outputId": "d94e3bfc-b556-4efb-b778-1cc59ade6a85"
   },
   "outputs": [
    {
     "data": {
      "text/html": [
       "<div>\n",
       "<style scoped>\n",
       "    .dataframe tbody tr th:only-of-type {\n",
       "        vertical-align: middle;\n",
       "    }\n",
       "\n",
       "    .dataframe tbody tr th {\n",
       "        vertical-align: top;\n",
       "    }\n",
       "\n",
       "    .dataframe thead th {\n",
       "        text-align: right;\n",
       "    }\n",
       "</style>\n",
       "<table border=\"1\" class=\"dataframe\">\n",
       "  <thead>\n",
       "    <tr style=\"text-align: right;\">\n",
       "      <th></th>\n",
       "      <th>id</th>\n",
       "      <th>category</th>\n",
       "    </tr>\n",
       "  </thead>\n",
       "  <tbody>\n",
       "    <tr>\n",
       "      <th>0</th>\n",
       "      <td>3729</td>\n",
       "      <td>0</td>\n",
       "    </tr>\n",
       "    <tr>\n",
       "      <th>1</th>\n",
       "      <td>3732</td>\n",
       "      <td>0</td>\n",
       "    </tr>\n",
       "    <tr>\n",
       "      <th>2</th>\n",
       "      <td>3761</td>\n",
       "      <td>0</td>\n",
       "    </tr>\n",
       "    <tr>\n",
       "      <th>3</th>\n",
       "      <td>5</td>\n",
       "      <td>0</td>\n",
       "    </tr>\n",
       "    <tr>\n",
       "      <th>4</th>\n",
       "      <td>7</td>\n",
       "      <td>0</td>\n",
       "    </tr>\n",
       "    <tr>\n",
       "      <th>...</th>\n",
       "      <td>...</td>\n",
       "      <td>...</td>\n",
       "    </tr>\n",
       "    <tr>\n",
       "      <th>1355</th>\n",
       "      <td>311</td>\n",
       "      <td>0</td>\n",
       "    </tr>\n",
       "    <tr>\n",
       "      <th>1356</th>\n",
       "      <td>324</td>\n",
       "      <td>1</td>\n",
       "    </tr>\n",
       "    <tr>\n",
       "      <th>1357</th>\n",
       "      <td>329</td>\n",
       "      <td>0</td>\n",
       "    </tr>\n",
       "    <tr>\n",
       "      <th>1358</th>\n",
       "      <td>342</td>\n",
       "      <td>0</td>\n",
       "    </tr>\n",
       "    <tr>\n",
       "      <th>1359</th>\n",
       "      <td>352</td>\n",
       "      <td>0</td>\n",
       "    </tr>\n",
       "  </tbody>\n",
       "</table>\n",
       "<p>1360 rows × 2 columns</p>\n",
       "</div>"
      ],
      "text/plain": [
       "        id  category\n",
       "0     3729         0\n",
       "1     3732         0\n",
       "2     3761         0\n",
       "3        5         0\n",
       "4        7         0\n",
       "...    ...       ...\n",
       "1355   311         0\n",
       "1356   324         1\n",
       "1357   329         0\n",
       "1358   342         0\n",
       "1359   352         0\n",
       "\n",
       "[1360 rows x 2 columns]"
      ]
     },
     "execution_count": 61,
     "metadata": {
      "tags": []
     },
     "output_type": "execute_result"
    }
   ],
   "source": [
    "pred_df = pd.DataFrame(data = df_test[\"id\"])\n",
    "pred_df[\"category\"] = pred_test\n",
    "pred_df"
   ]
  },
  {
   "cell_type": "code",
   "execution_count": 62,
   "metadata": {
    "colab": {},
    "colab_type": "code",
    "id": "9NztNxoPOtSq"
   },
   "outputs": [],
   "source": [
    "pred_df.to_csv(r'/content/sample_data/Result/Predicted_Result_LSTM.csv',index = False)"
   ]
  },
  {
   "cell_type": "code",
   "execution_count": 63,
   "metadata": {
    "colab": {},
    "colab_type": "code",
    "id": "8rXmQ_F_PGoN"
   },
   "outputs": [],
   "source": [
    "result_df = pd.read_csv(\"/content/sample_data/Result/Predicted_Result_LSTM.csv\")"
   ]
  },
  {
   "cell_type": "code",
   "execution_count": 64,
   "metadata": {
    "colab": {
     "base_uri": "https://localhost:8080/",
     "height": 419
    },
    "colab_type": "code",
    "id": "LeCORu9GPO1_",
    "outputId": "feb49b25-920d-408e-bcd3-65015880a2d3"
   },
   "outputs": [
    {
     "data": {
      "text/html": [
       "<div>\n",
       "<style scoped>\n",
       "    .dataframe tbody tr th:only-of-type {\n",
       "        vertical-align: middle;\n",
       "    }\n",
       "\n",
       "    .dataframe tbody tr th {\n",
       "        vertical-align: top;\n",
       "    }\n",
       "\n",
       "    .dataframe thead th {\n",
       "        text-align: right;\n",
       "    }\n",
       "</style>\n",
       "<table border=\"1\" class=\"dataframe\">\n",
       "  <thead>\n",
       "    <tr style=\"text-align: right;\">\n",
       "      <th></th>\n",
       "      <th>id</th>\n",
       "      <th>category</th>\n",
       "    </tr>\n",
       "  </thead>\n",
       "  <tbody>\n",
       "    <tr>\n",
       "      <th>0</th>\n",
       "      <td>3729</td>\n",
       "      <td>0</td>\n",
       "    </tr>\n",
       "    <tr>\n",
       "      <th>1</th>\n",
       "      <td>3732</td>\n",
       "      <td>0</td>\n",
       "    </tr>\n",
       "    <tr>\n",
       "      <th>2</th>\n",
       "      <td>3761</td>\n",
       "      <td>0</td>\n",
       "    </tr>\n",
       "    <tr>\n",
       "      <th>3</th>\n",
       "      <td>5</td>\n",
       "      <td>0</td>\n",
       "    </tr>\n",
       "    <tr>\n",
       "      <th>4</th>\n",
       "      <td>7</td>\n",
       "      <td>0</td>\n",
       "    </tr>\n",
       "    <tr>\n",
       "      <th>...</th>\n",
       "      <td>...</td>\n",
       "      <td>...</td>\n",
       "    </tr>\n",
       "    <tr>\n",
       "      <th>1355</th>\n",
       "      <td>311</td>\n",
       "      <td>0</td>\n",
       "    </tr>\n",
       "    <tr>\n",
       "      <th>1356</th>\n",
       "      <td>324</td>\n",
       "      <td>1</td>\n",
       "    </tr>\n",
       "    <tr>\n",
       "      <th>1357</th>\n",
       "      <td>329</td>\n",
       "      <td>0</td>\n",
       "    </tr>\n",
       "    <tr>\n",
       "      <th>1358</th>\n",
       "      <td>342</td>\n",
       "      <td>0</td>\n",
       "    </tr>\n",
       "    <tr>\n",
       "      <th>1359</th>\n",
       "      <td>352</td>\n",
       "      <td>0</td>\n",
       "    </tr>\n",
       "  </tbody>\n",
       "</table>\n",
       "<p>1360 rows × 2 columns</p>\n",
       "</div>"
      ],
      "text/plain": [
       "        id  category\n",
       "0     3729         0\n",
       "1     3732         0\n",
       "2     3761         0\n",
       "3        5         0\n",
       "4        7         0\n",
       "...    ...       ...\n",
       "1355   311         0\n",
       "1356   324         1\n",
       "1357   329         0\n",
       "1358   342         0\n",
       "1359   352         0\n",
       "\n",
       "[1360 rows x 2 columns]"
      ]
     },
     "execution_count": 64,
     "metadata": {
      "tags": []
     },
     "output_type": "execute_result"
    }
   ],
   "source": [
    "result_df"
   ]
  },
  {
   "cell_type": "code",
   "execution_count": 65,
   "metadata": {
    "colab": {
     "base_uri": "https://localhost:8080/",
     "height": 68
    },
    "colab_type": "code",
    "id": "5mk2jEv5PUwZ",
    "outputId": "2fc207a2-3302-494f-e091-54d9b933defb"
   },
   "outputs": [
    {
     "data": {
      "text/plain": [
       "0    978\n",
       "1    382\n",
       "Name: category, dtype: int64"
      ]
     },
     "execution_count": 65,
     "metadata": {
      "tags": []
     },
     "output_type": "execute_result"
    }
   ],
   "source": [
    "result_df[\"category\"].value_counts()"
   ]
  },
  {
   "cell_type": "code",
   "execution_count": null,
   "metadata": {
    "colab": {},
    "colab_type": "code",
    "id": "CLE_BcjlasTu"
   },
   "outputs": [],
   "source": []
  },
  {
   "cell_type": "markdown",
   "metadata": {},
   "source": [
    "Here i Build a model with use Deep Learning Technique of LSTM ,Comparing with other models and Techniques of Bag of Words with Naive Bayes and TF- IDF with Naive Bayes,This Model is Optimized and Performed well."
   ]
  }
 ],
 "metadata": {
  "accelerator": "TPU",
  "colab": {
   "name": "Untitled1.ipynb",
   "provenance": [],
   "toc_visible": true
  },
  "kernelspec": {
   "display_name": "Python 3",
   "language": "python",
   "name": "python3"
  },
  "language_info": {
   "codemirror_mode": {
    "name": "ipython",
    "version": 3
   },
   "file_extension": ".py",
   "mimetype": "text/x-python",
   "name": "python",
   "nbconvert_exporter": "python",
   "pygments_lexer": "ipython3",
   "version": "3.7.4"
  }
 },
 "nbformat": 4,
 "nbformat_minor": 1
}
